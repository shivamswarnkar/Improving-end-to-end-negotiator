{
 "cells": [
  {
   "cell_type": "code",
   "execution_count": 1,
   "metadata": {},
   "outputs": [
    {
     "name": "stderr",
     "output_type": "stream",
     "text": [
      "usage: ipykernel_launcher.py [-h] [--data DATA] [--nembed_word NEMBED_WORD]\n",
      "                             [--nembed_ctx NEMBED_CTX] [--nhid_lang NHID_LANG]\n",
      "                             [--nhid_ctx NHID_CTX] [--nhid_strat NHID_STRAT]\n",
      "                             [--nhid_attn NHID_ATTN] [--nhid_sel NHID_SEL]\n",
      "                             [--lr LR] [--min_lr MIN_LR]\n",
      "                             [--decay_rate DECAY_RATE]\n",
      "                             [--decay_every DECAY_EVERY] [--momentum MOMENTUM]\n",
      "                             [--nesterov] [--clip CLIP] [--dropout DROPOUT]\n",
      "                             [--init_range INIT_RANGE] [--max_epoch MAX_EPOCH]\n",
      "                             [--bsz BSZ] [--unk_threshold UNK_THRESHOLD]\n",
      "                             [--temperature TEMPERATURE]\n",
      "                             [--sel_weight SEL_WEIGHT] [--seed SEED] [--cuda]\n",
      "                             [--model_file MODEL_FILE] [--visual]\n",
      "                             [--domain DOMAIN] [--rnn_ctx_encoder]\n",
      "ipykernel_launcher.py: error: unrecognized arguments: -f /Users/vinaybhapkar/Library/Jupyter/runtime/kernel-c533e3ff-9dbb-4b16-82f2-952444895612.json\n"
     ]
    },
    {
     "ename": "SystemExit",
     "evalue": "2",
     "output_type": "error",
     "traceback": [
      "An exception has occurred, use %tb to see the full traceback.\n",
      "\u001b[0;31mSystemExit\u001b[0m\u001b[0;31m:\u001b[0m 2\n"
     ]
    },
    {
     "name": "stderr",
     "output_type": "stream",
     "text": [
      "/Applications/anaconda/lib/python3.6/site-packages/IPython/core/interactiveshell.py:2889: UserWarning: To exit: use 'exit', 'quit', or Ctrl-D.\n",
      "  warn(\"To exit: use 'exit', 'quit', or Ctrl-D.\", stacklevel=1)\n"
     ]
    }
   ],
   "source": [
    "# Copyright 2017-present, Facebook, Inc.\n",
    "# All rights reserved.\n",
    "#\n",
    "# This source code is licensed under the license found in the\n",
    "# LICENSE file in the root directory of this source tree.\n",
    "\"\"\"\n",
    "Training script. Performs supervised training of DialogModel.\n",
    "\"\"\"\n",
    "\n",
    "import argparse\n",
    "import sys\n",
    "import time\n",
    "import random\n",
    "import itertools\n",
    "import re\n",
    "\n",
    "import numpy as np\n",
    "import torch\n",
    "import torch.nn as nn\n",
    "import torch.optim as optim\n",
    "from torch.autograd import Variable\n",
    "\n",
    "import data\n",
    "from models.dialog_model import DialogModel\n",
    "import utils\n",
    "from engine import Engine\n",
    "\n",
    "\n",
    "def main():\n",
    "    parser = argparse.ArgumentParser(description='training script')\n",
    "    parser.add_argument('--data', type=str, default='data/negotiate',\n",
    "        help='location of the data corpus')\n",
    "    parser.add_argument('--nembed_word', type=int, default=256,\n",
    "        help='size of word embeddings')\n",
    "    parser.add_argument('--nembed_ctx', type=int, default=64,\n",
    "        help='size of context embeddings')\n",
    "    parser.add_argument('--nhid_lang', type=int, default=256,\n",
    "        help='size of the hidden state for the language module')\n",
    "    parser.add_argument('--nhid_ctx', type=int, default=64,\n",
    "        help='size of the hidden state for the context module')\n",
    "    parser.add_argument('--nhid_strat', type=int, default=64,\n",
    "        help='size of the hidden state for the strategy module')\n",
    "    parser.add_argument('--nhid_attn', type=int, default=64,\n",
    "        help='size of the hidden state for the attention module')\n",
    "    parser.add_argument('--nhid_sel', type=int, default=64,\n",
    "        help='size of the hidden state for the selection module')\n",
    "    parser.add_argument('--lr', type=float, default=20.0,\n",
    "        help='initial learning rate')\n",
    "    parser.add_argument('--min_lr', type=float, default=1e-5,\n",
    "        help='min threshold for learning rate annealing')\n",
    "    parser.add_argument('--decay_rate', type=float,  default=9.0,\n",
    "        help='decrease learning rate by this factor')\n",
    "    parser.add_argument('--decay_every', type=int,  default=1,\n",
    "        help='decrease learning rate after decay_every epochs')\n",
    "    parser.add_argument('--momentum', type=float, default=0.0,\n",
    "        help='momentum for sgd')\n",
    "    parser.add_argument('--nesterov', action='store_true', default=False,\n",
    "        help='enable nesterov momentum')\n",
    "    parser.add_argument('--clip', type=float, default=0.2,\n",
    "        help='gradient clipping')\n",
    "    parser.add_argument('--dropout', type=float, default=0.5,\n",
    "        help='dropout rate in embedding layer')\n",
    "    parser.add_argument('--init_range', type=float, default=0.1,\n",
    "        help='initialization range')\n",
    "    parser.add_argument('--max_epoch', type=int, default=30,\n",
    "        help='max number of epochs')\n",
    "    parser.add_argument('--bsz', type=int, default=25,\n",
    "        help='batch size')\n",
    "    parser.add_argument('--unk_threshold', type=int, default=20,\n",
    "        help='minimum word frequency to be in dictionary')\n",
    "    parser.add_argument('--temperature', type=float, default=0.1,\n",
    "        help='temperature')\n",
    "    parser.add_argument('--sel_weight', type=float, default=1.0,\n",
    "        help='selection weight')\n",
    "    parser.add_argument('--seed', type=int, default=1,\n",
    "        help='random seed')\n",
    "    parser.add_argument('--cuda', action='store_true', default=False,\n",
    "        help='use CUDA')\n",
    "    parser.add_argument('--model_file', type=str,  default='',\n",
    "        help='path to save the final model')\n",
    "    parser.add_argument('--visual', action='store_true', default=False,\n",
    "        help='plot graphs')\n",
    "    parser.add_argument('--domain', type=str, default='object_division',\n",
    "        help='domain for the dialogue')\n",
    "    parser.add_argument('--rnn_ctx_encoder', action='store_true', default=False,\n",
    "        help='wheather to use RNN for encoding the context')\n",
    "    args = parser.parse_args()\n",
    "\n",
    "    device_id = utils.use_cuda(args.cuda)\n",
    "    utils.set_seed(args.seed)\n",
    "\n",
    "    corpus = data.WordCorpus(args.data, freq_cutoff=args.unk_threshold, verbose=True)\n",
    "    model = DialogModel(corpus.word_dict, corpus.item_dict, corpus.context_dict,\n",
    "        corpus.output_length, args, device_id)\n",
    "    if device_id is not None:\n",
    "        model.cuda(device_id)\n",
    "    engine = Engine(model, args, device_id, verbose=True)\n",
    "    train_loss, valid_loss, select_loss = engine.train(corpus)\n",
    "    print('final selectppl %.3f' % np.exp(select_loss))\n",
    "\n",
    "    utils.save_model(engine.get_model(), args.model_file)\n",
    "\n",
    "\n",
    "if __name__ == '__main__':\n",
    "    main()\n",
    "\n"
   ]
  },
  {
   "cell_type": "code",
   "execution_count": 2,
   "metadata": {},
   "outputs": [
    {
     "ename": "SystemExit",
     "evalue": "2",
     "output_type": "error",
     "traceback": [
      "\u001b[0;31m---------------------------------------------------------------------------\u001b[0m",
      "\u001b[0;31mSystemExit\u001b[0m                                Traceback (most recent call last)",
      "\u001b[0;32m<ipython-input-1-fa2aca78ca44>\u001b[0m in \u001b[0;36m<module>\u001b[0;34m()\u001b[0m\n\u001b[1;32m    103\u001b[0m \u001b[0;34m\u001b[0m\u001b[0m\n\u001b[1;32m    104\u001b[0m \u001b[0;32mif\u001b[0m \u001b[0m__name__\u001b[0m \u001b[0;34m==\u001b[0m \u001b[0;34m'__main__'\u001b[0m\u001b[0;34m:\u001b[0m\u001b[0;34m\u001b[0m\u001b[0m\n\u001b[0;32m--> 105\u001b[0;31m     \u001b[0mmain\u001b[0m\u001b[0;34m(\u001b[0m\u001b[0;34m)\u001b[0m\u001b[0;34m\u001b[0m\u001b[0m\n\u001b[0m\u001b[1;32m    106\u001b[0m \u001b[0;34m\u001b[0m\u001b[0m\n",
      "\u001b[0;32m<ipython-input-1-fa2aca78ca44>\u001b[0m in \u001b[0;36mmain\u001b[0;34m()\u001b[0m\n\u001b[1;32m     85\u001b[0m     parser.add_argument('--rnn_ctx_encoder', action='store_true', default=False,\n\u001b[1;32m     86\u001b[0m         help='wheather to use RNN for encoding the context')\n\u001b[0;32m---> 87\u001b[0;31m     \u001b[0margs\u001b[0m \u001b[0;34m=\u001b[0m \u001b[0mparser\u001b[0m\u001b[0;34m.\u001b[0m\u001b[0mparse_args\u001b[0m\u001b[0;34m(\u001b[0m\u001b[0;34m)\u001b[0m\u001b[0;34m\u001b[0m\u001b[0m\n\u001b[0m\u001b[1;32m     88\u001b[0m \u001b[0;34m\u001b[0m\u001b[0m\n\u001b[1;32m     89\u001b[0m     \u001b[0mdevice_id\u001b[0m \u001b[0;34m=\u001b[0m \u001b[0mutils\u001b[0m\u001b[0;34m.\u001b[0m\u001b[0muse_cuda\u001b[0m\u001b[0;34m(\u001b[0m\u001b[0margs\u001b[0m\u001b[0;34m.\u001b[0m\u001b[0mcuda\u001b[0m\u001b[0;34m)\u001b[0m\u001b[0;34m\u001b[0m\u001b[0m\n",
      "\u001b[0;32m/Applications/anaconda/lib/python3.6/argparse.py\u001b[0m in \u001b[0;36mparse_args\u001b[0;34m(self, args, namespace)\u001b[0m\n\u001b[1;32m   1731\u001b[0m         \u001b[0;32mif\u001b[0m \u001b[0margv\u001b[0m\u001b[0;34m:\u001b[0m\u001b[0;34m\u001b[0m\u001b[0m\n\u001b[1;32m   1732\u001b[0m             \u001b[0mmsg\u001b[0m \u001b[0;34m=\u001b[0m \u001b[0m_\u001b[0m\u001b[0;34m(\u001b[0m\u001b[0;34m'unrecognized arguments: %s'\u001b[0m\u001b[0;34m)\u001b[0m\u001b[0;34m\u001b[0m\u001b[0m\n\u001b[0;32m-> 1733\u001b[0;31m             \u001b[0mself\u001b[0m\u001b[0;34m.\u001b[0m\u001b[0merror\u001b[0m\u001b[0;34m(\u001b[0m\u001b[0mmsg\u001b[0m \u001b[0;34m%\u001b[0m \u001b[0;34m' '\u001b[0m\u001b[0;34m.\u001b[0m\u001b[0mjoin\u001b[0m\u001b[0;34m(\u001b[0m\u001b[0margv\u001b[0m\u001b[0;34m)\u001b[0m\u001b[0;34m)\u001b[0m\u001b[0;34m\u001b[0m\u001b[0m\n\u001b[0m\u001b[1;32m   1734\u001b[0m         \u001b[0;32mreturn\u001b[0m \u001b[0margs\u001b[0m\u001b[0;34m\u001b[0m\u001b[0m\n\u001b[1;32m   1735\u001b[0m \u001b[0;34m\u001b[0m\u001b[0m\n",
      "\u001b[0;32m/Applications/anaconda/lib/python3.6/argparse.py\u001b[0m in \u001b[0;36merror\u001b[0;34m(self, message)\u001b[0m\n\u001b[1;32m   2387\u001b[0m         \u001b[0mself\u001b[0m\u001b[0;34m.\u001b[0m\u001b[0mprint_usage\u001b[0m\u001b[0;34m(\u001b[0m\u001b[0m_sys\u001b[0m\u001b[0;34m.\u001b[0m\u001b[0mstderr\u001b[0m\u001b[0;34m)\u001b[0m\u001b[0;34m\u001b[0m\u001b[0m\n\u001b[1;32m   2388\u001b[0m         \u001b[0margs\u001b[0m \u001b[0;34m=\u001b[0m \u001b[0;34m{\u001b[0m\u001b[0;34m'prog'\u001b[0m\u001b[0;34m:\u001b[0m \u001b[0mself\u001b[0m\u001b[0;34m.\u001b[0m\u001b[0mprog\u001b[0m\u001b[0;34m,\u001b[0m \u001b[0;34m'message'\u001b[0m\u001b[0;34m:\u001b[0m \u001b[0mmessage\u001b[0m\u001b[0;34m}\u001b[0m\u001b[0;34m\u001b[0m\u001b[0m\n\u001b[0;32m-> 2389\u001b[0;31m         \u001b[0mself\u001b[0m\u001b[0;34m.\u001b[0m\u001b[0mexit\u001b[0m\u001b[0;34m(\u001b[0m\u001b[0;36m2\u001b[0m\u001b[0;34m,\u001b[0m \u001b[0m_\u001b[0m\u001b[0;34m(\u001b[0m\u001b[0;34m'%(prog)s: error: %(message)s\\n'\u001b[0m\u001b[0;34m)\u001b[0m \u001b[0;34m%\u001b[0m \u001b[0margs\u001b[0m\u001b[0;34m)\u001b[0m\u001b[0;34m\u001b[0m\u001b[0m\n\u001b[0m",
      "\u001b[0;32m/Applications/anaconda/lib/python3.6/argparse.py\u001b[0m in \u001b[0;36mexit\u001b[0;34m(self, status, message)\u001b[0m\n\u001b[1;32m   2374\u001b[0m         \u001b[0;32mif\u001b[0m \u001b[0mmessage\u001b[0m\u001b[0;34m:\u001b[0m\u001b[0;34m\u001b[0m\u001b[0m\n\u001b[1;32m   2375\u001b[0m             \u001b[0mself\u001b[0m\u001b[0;34m.\u001b[0m\u001b[0m_print_message\u001b[0m\u001b[0;34m(\u001b[0m\u001b[0mmessage\u001b[0m\u001b[0;34m,\u001b[0m \u001b[0m_sys\u001b[0m\u001b[0;34m.\u001b[0m\u001b[0mstderr\u001b[0m\u001b[0;34m)\u001b[0m\u001b[0;34m\u001b[0m\u001b[0m\n\u001b[0;32m-> 2376\u001b[0;31m         \u001b[0m_sys\u001b[0m\u001b[0;34m.\u001b[0m\u001b[0mexit\u001b[0m\u001b[0;34m(\u001b[0m\u001b[0mstatus\u001b[0m\u001b[0;34m)\u001b[0m\u001b[0;34m\u001b[0m\u001b[0m\n\u001b[0m\u001b[1;32m   2377\u001b[0m \u001b[0;34m\u001b[0m\u001b[0m\n\u001b[1;32m   2378\u001b[0m     \u001b[0;32mdef\u001b[0m \u001b[0merror\u001b[0m\u001b[0;34m(\u001b[0m\u001b[0mself\u001b[0m\u001b[0;34m,\u001b[0m \u001b[0mmessage\u001b[0m\u001b[0;34m)\u001b[0m\u001b[0;34m:\u001b[0m\u001b[0;34m\u001b[0m\u001b[0m\n",
      "\u001b[0;31mSystemExit\u001b[0m: 2"
     ]
    }
   ],
   "source": [
    "%tb"
   ]
  },
  {
   "cell_type": "code",
   "execution_count": null,
   "metadata": {
    "collapsed": true
   },
   "outputs": [],
   "source": []
  }
 ],
 "metadata": {
  "kernelspec": {
   "display_name": "Python 3",
   "language": "python",
   "name": "python3"
  },
  "language_info": {
   "codemirror_mode": {
    "name": "ipython",
    "version": 3
   },
   "file_extension": ".py",
   "mimetype": "text/x-python",
   "name": "python",
   "nbconvert_exporter": "python",
   "pygments_lexer": "ipython3",
   "version": "3.6.1"
  }
 },
 "nbformat": 4,
 "nbformat_minor": 2
}
